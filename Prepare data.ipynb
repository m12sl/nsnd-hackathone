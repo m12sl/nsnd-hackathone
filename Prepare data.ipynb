{
 "cells": [
  {
   "cell_type": "markdown",
   "metadata": {},
   "source": [
    "Анализируем данные с data.gov.ru:\n",
    "(в репозитории находятся версии актуальные на 26 Июня 2015)\n",
    "http://data.gov.ru/opendata/7710489036-dorozhkivelosipednye\n",
    "http://data.gov.ru/opendata/7710489036-veloparkovki\n",
    "http://data.gov.ru/opendata/7710489036-stantsiiprokatavelosipedov\n",
    "\n",
    "Данные в немного разных нотациях, поэтому код по парсингу разный."
   ]
  },
  {
   "cell_type": "code",
   "execution_count": 85,
   "metadata": {
    "collapsed": false
   },
   "outputs": [],
   "source": [
    "%matplotlib inline\n",
    "import pandas as pd\n",
    "import numpy as np\n",
    "import matplotlib.pyplot as plt\n",
    "pd.set_option('display.mpl_style', 'default')\n",
    "\n",
    "import json\n",
    "\n",
    "\n",
    "def parseRoads(filename='data/roads.csv'):\n",
    "    \"\"\"\n",
    "        Generate list of [(Lat, Lon),...] roads\n",
    "    \"\"\"\n",
    "    df = pd.read_csv(filename)\n",
    "    roads = []\n",
    "    for x in df['Track']:\n",
    "        line = []\n",
    "        for pair in x.split(';'):\n",
    "            line.append(tuple([float(t) for t in pair.split(',')]))\n",
    "        roads.append(line)\n",
    "    return roads\n",
    "            \n",
    "def parsePark(filename='data/parks.csv'):\n",
    "    \"\"\"\n",
    "        Generate list of (Lat, Lon) points with !nan coords\n",
    "    \"\"\"\n",
    "    df = pd.read_csv(filename).dropna()\n",
    "    def gen(dfs):\n",
    "        return (t.replace(',', '.') for t in dfs)\n",
    "\n",
    "    return zip(gen(df[\"X_WGS\"]), gen(df[\"Y_WGS\"]))\n",
    "\n",
    "def parseRent(filename='data/rent.csv'):\n",
    "    \"\"\"\n",
    "        Generate list of (Lat, Lon) points with !nan coords\n",
    "    \"\"\"\n",
    "    df = pd.read_csv(filename).dropna()\n",
    "    return zip(df[\"Longitude_WGS84\"], df[\"Latitude_WGS84\"])\n",
    "\n",
    "# parseRoads()\n",
    "# parsePark()\n",
    "# parseRent()\n"
   ]
  },
  {
   "cell_type": "markdown",
   "metadata": {},
   "source": [
    "Теперь у нас есть код, выдающий списки координат. Надо обратить внимание на разные нотации Lon-Lat/Lat-Lon/X-Y-Z(Mercator).\n",
    "Далее у нас есть выбор, как эти точки рисовать. Быстрый путь -- преобразовать в JS код и нарисовать на какой-нибудь гуглокарте.\n",
    "Для точек:\n",
    "```\n",
    "new google.maps.Marker({position: {lat, lon:},map: map});\n",
    "```\n",
    "Для путей:\n",
    "_при желании, можно заинлайнить все жестко_\n",
    "```\n",
    "p = new google.maps.LatLng(Lat, Lon);\n",
    "new google.maps.Polyline({path:p, geodesic: true, \n",
    "                          strokeColor: '#11FF00',\\\n",
    "                          strokeOpacity: 1.0, \n",
    "                          strokeWeight: 2, \n",
    "                          map: map});\n",
    "```\n",
    "\n",
    "### Рабочекрестьянский подход\n",
    "\n",
    "На странице http://labs.strava.com/heatmap/#12/37.58191/55.74276/blue/bike в JS консоль вставляем код:\n",
    "Вместо {{DATA}} подставить выхлоп json.dumps(roads)\n",
    "```\n",
    "var roads = {{DATA}};\n",
    "for(var i in roads) {\n",
    "    var path = [];\n",
    "    for(var j in roads[i]) {\n",
    "        path.push(new google.maps.LatLng(roads[i][j][1], roads[i][j][0]));\n",
    "    }\n",
    "    new google.maps.Polyline({path:path, geodesic: true, \n",
    "                              strokeColor: '#11FF00',\n",
    "                              strokeOpacity: 1.0, \n",
    "                              strokeWeight: 2, \n",
    "                              map: map});\n",
    "}\n",
    "```\n",
    "Для рисования точек такой метод: Вместо {{DATA}} подставить выхлоп json.dumps(points)\n",
    "```\n",
    "var points = {{DATA}};\n",
    "for(var i in points) {\n",
    "    var point = new google.maps.LatLng(points[i][1], points[i][0]);\n",
    "    new google.maps.Marker({position:point,\n",
    "                              map: map});\n",
    "}\n",
    "```"
   ]
  },
  {
   "cell_type": "code",
   "execution_count": 88,
   "metadata": {
    "collapsed": false,
    "scrolled": true
   },
   "outputs": [
    {
     "data": {
      "text/plain": [
       "'[[37.600700000000003, 55.745399999999997], [37.6051, 55.7652], [37.622199999999999, 55.768000000000001], [37.639099999999999, 55.764699999999998], [37.647399999999998, 55.753300000000003], [37.635100000000001, 55.753900000000002], [37.630899999999997, 55.756799999999998], [37.636699999999998, 55.7654], [37.5899, 55.725700000000003], [37.584200000000003, 55.727400000000003], [37.579099999999997, 55.724200000000003], [37.586399999999998, 55.721699999999998], [37.575899999999997, 55.722000000000001], [37.583500000000001, 55.719200000000001], [37.578000000000003, 55.715499999999999], [37.561799999999998, 55.721800000000002], [37.569499999999998, 55.712600000000002], [37.560000000000002, 55.711599999999997], [37.555100000000003, 55.706200000000003], [37.545200000000001, 55.700400000000002], [37.541200000000003, 55.708799999999997], [37.535499999999999, 55.7149], [37.628599999999999, 55.741999999999997], [37.6252, 55.740699999999997], [37.617899999999999, 55.744799999999998], [37.593299999999999, 55.735199999999999], [37.580800000000004, 55.726500000000001], [37.569299999999998, 55.731099999999998], [37.565199999999997, 55.723799999999997], [37.559899999999999, 55.7271], [37.591900000000003, 55.764899999999997], [37.593600000000002, 55.763599999999997], [37.6417, 55.758800000000001], [37.632800000000003, 55.772199999999998]]'"
      ]
     },
     "execution_count": 88,
     "metadata": {},
     "output_type": "execute_result"
    }
   ],
   "source": [
    "\n",
    "json.dumps(parseRent())\n"
   ]
  },
  {
   "cell_type": "code",
   "execution_count": null,
   "metadata": {
    "collapsed": true
   },
   "outputs": [],
   "source": []
  }
 ],
 "metadata": {
  "kernelspec": {
   "display_name": "Python 2",
   "language": "python",
   "name": "python2"
  },
  "language_info": {
   "codemirror_mode": {
    "name": "ipython",
    "version": 2
   },
   "file_extension": ".py",
   "mimetype": "text/x-python",
   "name": "python",
   "nbconvert_exporter": "python",
   "pygments_lexer": "ipython2",
   "version": "2.7.9"
  }
 },
 "nbformat": 4,
 "nbformat_minor": 0
}
