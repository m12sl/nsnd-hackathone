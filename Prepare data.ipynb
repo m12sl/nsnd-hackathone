{
 "cells": [
  {
   "cell_type": "code",
   "execution_count": 1,
   "metadata": {
    "collapsed": true
   },
   "outputs": [],
   "source": [
    "import pandas as pd\n",
    "import numpy as np"
   ]
  },
  {
   "cell_type": "code",
   "execution_count": 30,
   "metadata": {
    "collapsed": false
   },
   "outputs": [],
   "source": [
    "df = pd.read_csv('data/roads.csv')\n",
    "\n",
    "def genCmd(points):\n",
    "    cmd = []\n",
    "    for p in points:\n",
    "        x, y = p\n",
    "        cmd.append('new google.maps.LatLng(%f, %f),' % (x, y))\n",
    "    \n",
    "    return \"new google.maps.Polyline({path:[%s], geodesic: true, strokeColor: '#11FF00',\\\n",
    "        strokeOpacity: 1.0, strokeWeight: 2, map:map});\" % ''.join(cmd)\n",
    "\n",
    "def extractTrack(idx):\n",
    "#     print df['Track'][idx]\n",
    "    points = []\n",
    "    for x in df['Track'][idx].split(';'):\n",
    "        points.append([float(t) for t in x.split(',')[::-1]])\n",
    "    return points\n",
    "        \n",
    "\n",
    "\n",
    "points = extractTrack(2)\n",
    "q = genCmd(points)\n",
    "    \n",
    "    \n",
    "    \n"
   ]
  },
  {
   "cell_type": "code",
   "execution_count": 31,
   "metadata": {
    "collapsed": false
   },
   "outputs": [],
   "source": [
    "full = []\n",
    "for i,_ in enumerate(df['Track']):\n",
    "    points = extractTrack(i)\n",
    "    q = genCmd(points)\n",
    "    full.append(q)\n",
    "with open('out.txt', 'w') as fout:\n",
    "    fout.writelines(full)"
   ]
  },
  {
   "cell_type": "code",
   "execution_count": null,
   "metadata": {
    "collapsed": true
   },
   "outputs": [],
   "source": []
  }
 ],
 "metadata": {
  "kernelspec": {
   "display_name": "Python 2",
   "language": "python",
   "name": "python2"
  },
  "language_info": {
   "codemirror_mode": {
    "name": "ipython",
    "version": 2
   },
   "file_extension": ".py",
   "mimetype": "text/x-python",
   "name": "python",
   "nbconvert_exporter": "python",
   "pygments_lexer": "ipython2",
   "version": "2.7.9"
  }
 },
 "nbformat": 4,
 "nbformat_minor": 0
}
