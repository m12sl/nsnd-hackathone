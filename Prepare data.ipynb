{
 "cells": [
  {
   "cell_type": "code",
   "execution_count": 85,
   "metadata": {
    "collapsed": false
   },
   "outputs": [],
   "source": [
    "%matplotlib inline\n",
    "import pandas as pd\n",
    "import numpy as np\n",
    "import matplotlib.pyplot as plt\n",
    "pd.set_option('display.mpl_style', 'default')\n",
    "\n",
    "\n",
    "def parseRoads(filename='data/roads.csv'):\n",
    "    \"\"\"\n",
    "        Generate list of [(Lat, Lon),...] roads\n",
    "    \"\"\"\n",
    "    df = pd.read_csv(filename)\n",
    "    roads = []\n",
    "    for x in df['Track']:\n",
    "        line = []\n",
    "        for pair in x.split(';'):\n",
    "            line.append(tuple([float(t) for t in pair.split(',')]))\n",
    "        roads.append(line)\n",
    "    return roads\n",
    "            \n",
    "def parsePark(filename='data/parks.csv'):\n",
    "    \"\"\"\n",
    "        Generate list of (Lat, Lon) points with !nan coords\n",
    "    \"\"\"\n",
    "    df = pd.read_csv(filename).dropna()\n",
    "    def gen(dfs):\n",
    "        return (t.replace(',', '.') for t in dfs)\n",
    "\n",
    "    return zip(gen(df[\"X_WGS\"]), gen(df[\"Y_WGS\"]))\n",
    "\n",
    "\n",
    "def parseRent(filename='data/rent.csv'):\n",
    "    \"\"\"\n",
    "        Generate list of (Lat, Lon) points with !nan coords\n",
    "    \"\"\"\n",
    "    df = pd.read_csv(filename).dropna()\n",
    "    return zip(df[\"Longitude_WGS84\"], df[\"Latitude_WGS84\"])\n",
    "\n",
    "# parseRoads()\n",
    "# parsePark()\n",
    "# parseRent()\n"
   ]
  },
  {
   "cell_type": "markdown",
   "metadata": {},
   "source": [
    "Теперь у нас есть код, выдающий списки координат. Надо обратить внимание на разные нотации Lon-Lat/Lat-Lon/X-Y-Z(Mercator).\n",
    "Далее у нас есть выбор, как эти точки рисовать. Быстрый путь -- преобразовать в JS код и нарисовать на какой-нибудь гуглокарте.\n",
    "Для точек:\n",
    "```\n",
    "new google.maps.Marker({position: {lat, lon:},map: map});\n",
    "```\n",
    "Для путей:\n",
    "_при желании, можно заинлайнить все жестко_\n",
    "```\n",
    "p = new google.maps.LatLng(Lat, Lon);\n",
    "new google.maps.Polyline({path:p, geodesic: true, \n",
    "                          strokeColor: '#11FF00',\\\n",
    "                          strokeOpacity: 1.0, \n",
    "                          strokeWeight: 2, \n",
    "                          map: map});\n",
    "```"
   ]
  },
  {
   "cell_type": "code",
   "execution_count": null,
   "metadata": {
    "collapsed": true
   },
   "outputs": [],
   "source": []
  }
 ],
 "metadata": {
  "kernelspec": {
   "display_name": "Python 2",
   "language": "python",
   "name": "python2"
  },
  "language_info": {
   "codemirror_mode": {
    "name": "ipython",
    "version": 2
   },
   "file_extension": ".py",
   "mimetype": "text/x-python",
   "name": "python",
   "nbconvert_exporter": "python",
   "pygments_lexer": "ipython2",
   "version": "2.7.9"
  }
 },
 "nbformat": 4,
 "nbformat_minor": 0
}
